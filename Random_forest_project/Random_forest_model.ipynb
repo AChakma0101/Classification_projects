{
 "cells": [
  {
   "cell_type": "code",
   "execution_count": 1,
   "metadata": {},
   "outputs": [],
   "source": [
    "#Improving on Decision Trees\n",
    "#The main drawback of Decision Trees is that they have a tendency to overfit\n",
    "#Pruning can improve performance of Decision Trees, yet they are very susceptible to random idiosyncrasies in the training\n",
    "#dataset\n",
    "#We say that Decision Trees have high variance as if you randomly change the training dataset, you many end up with a very\n",
    "#different looking tree\n",
    "#One of the advantages of decision trees over a model like logistic regression is that they make no assumptions about how the\n",
    "#data is structured - in logistic regression, we assume that we can draw a line to split the data\n",
    "#Sometimes our data just isn't structured like that\n",
    "#A Decision Tree has the potential to get at the essence of the data no matter how it is structured"
   ]
  },
  {
   "cell_type": "code",
   "execution_count": 2,
   "metadata": {},
   "outputs": [],
   "source": [
    "#Random forest is a model built with multiple trees, and is a way of using Decision Trees to make a better model\n",
    "#The goal of random forests is to take the advantages of decision trees while mitigating the variance issues\n",
    "#A random forest is an example of an ensemble because it uses multiple machine learning models to create a single model"
   ]
  },
  {
   "cell_type": "code",
   "execution_count": 3,
   "metadata": {},
   "outputs": [],
   "source": [
    "#Bootstrapping\n",
    "#A bootstrapped sample is a random sample of datapoints where we randomly select with replacement datapoints from our original\n",
    "#dataset of the same size\n",
    "#This means, in a bootstrapped sample, some datapoints form the original dataset will appear mulitple times and some will not\n",
    "#appear at all\n",
    "#For example, if we have four datapoints A, B, C, C, these could be 3 resamples:\n",
    "#[A, A, B. C], [B, B, B, D], [A, A, C, C]\n",
    "#The training set is used to generate additional datasets\n",
    "#We use bootstrapping to mimic creating multiple samples"
   ]
  },
  {
   "cell_type": "code",
   "execution_count": 4,
   "metadata": {},
   "outputs": [],
   "source": [
    "#Bagging Decision Trees - Bootstrap aggregation (or Bagging) is a technique for reducing the variance in an individual model\n",
    "#by creating an ensemble from multiple models built on bootstrapped samples\n",
    "#To bag decision trees, we create multiple (say 10) bootstrapped resamples of our training dataset\n",
    "#So, if we have 100 datapoints in our training set, each of the resamples will have 100 datapoints randomly chosen from our\n",
    "#training set\n",
    "#We create a decision tree with each of these 10 resamples\n",
    "#To make a prediction, we make a prediction with each of the 10 decisoin trees and then each decision tree gets a vote - the\n",
    "#prediction with the most votes is the final prediction\n",
    "#The average of several trees that have different training sets will create a model that more accurately gets at the essence of\n",
    "#the data\n",
    "#Bagging Decision Trees is a way of reducing the variance in the model"
   ]
  },
  {
   "cell_type": "code",
   "execution_count": 5,
   "metadata": {},
   "outputs": [],
   "source": [
    "#Decorrelate the Trees\n",
    "#With bagged decision trees, the trees may still be too similar to have fully created the ideal model\n",
    "#So the trees have more variation, we will add some restrictions to the model when building each decision tree -  called as\n",
    "#decorrelating the trees"
   ]
  },
  {
   "cell_type": "code",
   "execution_count": 6,
   "metadata": {},
   "outputs": [],
   "source": [
    "#When building a decision tree, at every node, we compare all the split thresholds for each feature to find the single best\n",
    "#feature and split threshold\n",
    "#In a decision tree for a random forest, at each node, we randomly select a subset of the features to consider - a standard\n",
    "#choice for the number of features to consider at each split is the square root of the number of features\n",
    "#If we bag these decision trees, we get a random forest\n",
    "#Each decision tree within a random forest is probably worse than a standard decision tree but when we average them we get a\n",
    "#very strong model"
   ]
  },
  {
   "cell_type": "code",
   "execution_count": 7,
   "metadata": {},
   "outputs": [],
   "source": [
    "#Breast cancer dataset\n",
    "#We'll be using the breast cancer dataset - the dataset has measures of different attributes of a lump in breast tissue and a \n",
    "#label of whether or not the tumor is cancerous\n",
    "#The target is a 1d numpy array of 1's and 0's where 0 means malignant and 1 means benign\n",
    "#The dataset is built in scikit-learn and has 569 datapoints and 30 features"
   ]
  },
  {
   "cell_type": "code",
   "execution_count": 8,
   "metadata": {},
   "outputs": [
    {
     "name": "stdout",
     "output_type": "stream",
     "text": [
      "data dimensions: (569, 30)\n"
     ]
    }
   ],
   "source": [
    "#The code for pulling the data from sklearn\n",
    "import pandas as pd\n",
    "from sklearn.datasets import load_breast_cancer\n",
    "\n",
    "cancer_data = load_breast_cancer()\n",
    "\n",
    "df = pd.DataFrame(cancer_data['data'], columns=cancer_data['feature_names'])\n",
    "df['target'] = cancer_data['target']\n",
    "\n",
    "X = df[cancer_data.feature_names].values\n",
    "y = df['target'].values\n",
    "print('data dimensions:', X.shape)"
   ]
  },
  {
   "cell_type": "code",
   "execution_count": 9,
   "metadata": {},
   "outputs": [
    {
     "name": "stdout",
     "output_type": "stream",
     "text": [
      "prediction: [1]\n",
      "true value: 1\n"
     ]
    }
   ],
   "source": [
    "#Random forest with scikit-learn\n",
    "#import the Random Forest model for classification\n",
    "from sklearn.ensemble import RandomForestClassifier\n",
    "#Split the dataset into a training set and test set\n",
    "from sklearn.model_selection import train_test_split\n",
    "X_train, X_test, y_train, y_test = train_test_split(X, y, random_state=101)\n",
    "#create the RandomForestClassifier object\n",
    "rf = RandomForestClassifier()\n",
    "#use fit method to build the model on the training set\n",
    "rf.fit(X_train, y_train)\n",
    "#The model can now be used to make prediction - take the first row of the test set which must be 2d to predict\n",
    "first_row = X_test[0]\n",
    "print(\"prediction:\", rf.predict([first_row]))\n",
    "print(\"true value:\", y_test[0])"
   ]
  },
  {
   "cell_type": "code",
   "execution_count": 10,
   "metadata": {},
   "outputs": [
    {
     "name": "stdout",
     "output_type": "stream",
     "text": [
      "random forest accuracy: 0.972027972027972\n"
     ]
    }
   ],
   "source": [
    "#use the score method to calculate the accuracy over the whole test set\n",
    "print(\"random forest accuracy:\", rf.score(X_test, y_test))"
   ]
  },
  {
   "cell_type": "code",
   "execution_count": 11,
   "metadata": {},
   "outputs": [
    {
     "name": "stdout",
     "output_type": "stream",
     "text": [
      "decision tree accuracy: 0.916083916083916\n"
     ]
    }
   ],
   "source": [
    "#check how this compares to the Decision Tree model\n",
    "from sklearn.tree import DecisionTreeClassifier\n",
    "\n",
    "dt = DecisionTreeClassifier()\n",
    "dt.fit(X_train, y_train)\n",
    "print(\"decision tree accuracy:\", dt.score(X_test, y_test))"
   ]
  },
  {
   "cell_type": "code",
   "execution_count": 12,
   "metadata": {},
   "outputs": [],
   "source": [
    "#Tuning a Random Forest\n",
    "#Random Forest parameters - since a random forest is made up of decision trees, we hava all the same tuning parameters for \n",
    "#prepruning as we did for decision trees: max_depth, min_samples_leaf, max_leaf_nodes (with random forests, it is generally\n",
    "#not important to tune these as overfitting is generally not an issue)\n",
    "#Two new tuning parameters though - n_estimatores (the number of trees) and max_features (the number of features to consider\n",
    "#at each split)\n",
    "#The default for the max features is the square root of p, where p is the number of features (or predictors) - the default is\n",
    "#is generally a good choice for max features and we usually will not need to change it, but you can set it to a fixed number\n",
    "#with the following code: rf = RandomForestClassifier(max_features=5)\n",
    "#The default number of estimators (decision trees) is 10 - this often works well but may in some cases be too small\n",
    "#You can seit to another number as follows (there is a way to choose the best value for this)\n",
    "#rf = RandomForestClassifier(n_estimators=15)\n",
    "#One of the big advantages of Random Forests is that they rarely require much tuning - the default values will work well on\n",
    "#most datasets"
   ]
  },
  {
   "cell_type": "code",
   "execution_count": 13,
   "metadata": {},
   "outputs": [],
   "source": [
    "#Grid search\n",
    "#As explored with Decision Trees, sci-kit learn has built in a Grid Search clas to help us find the optimal choice of\n",
    "#parameters\n",
    "#use Grid Search to compare the performance of a Random Forest with different numbers of trees\n",
    "#define the parameter grid of the parameters we want to vary and give a list of the values to try\n",
    "#param_grid = {'n_estimators': [10, 25, 50, 75, 100],}\n",
    "#we can create a Random Forest Classifier and a Grid Search - Grid Search will do k-fold cross validation, set cv=5\n",
    "#rf = RandomForestClassifier()\n",
    "#gs = GridSearchCV(rf, param_grid, cv=5)\n",
    "#use the fit method to run the grid search\n",
    "#gs.fit(X, y)\n",
    "#the best parameters will be stored in the best_params_ attribute\n",
    "#gs.best_params_\n",
    "#The results may be different each time due to random split"
   ]
  },
  {
   "cell_type": "code",
   "execution_count": 14,
   "metadata": {},
   "outputs": [
    {
     "name": "stdout",
     "output_type": "stream",
     "text": [
      "best params: {'n_estimators': 25}\n"
     ]
    }
   ],
   "source": [
    "#Accuracy will work fine in this case as the classes in the breast cancer dataset are reasonably balanced\n",
    "#If the classes are imbalanced, we would want to use an alternative metric like the f1_score\n",
    "#The code:\n",
    "import pandas as pd\n",
    "from sklearn.datasets import load_breast_cancer\n",
    "from sklearn.ensemble import RandomForestClassifier\n",
    "from sklearn.model_selection import GridSearchCV\n",
    "\n",
    "cancer_data = load_breast_cancer()\n",
    "df = pd.DataFrame(cancer_data['data'], columns=cancer_data['feature_names'])\n",
    "df['target'] = cancer_data['target']\n",
    "\n",
    "X = df[cancer_data.feature_names].values\n",
    "y = df['target'].values\n",
    "\n",
    "param_grid = {\n",
    "    'n_estimators': [10, 25, 50, 75, 100]\n",
    "}\n",
    "\n",
    "rf = RandomForestClassifier(random_state=123)\n",
    "gs = GridSearchCV(rf, param_grid, scoring='f1', cv=5)\n",
    "gs.fit(X, y)\n",
    "print(\"best params:\", gs.best_params_)"
   ]
  },
  {
   "cell_type": "code",
   "execution_count": 15,
   "metadata": {},
   "outputs": [],
   "source": [
    "#You can add additional parameters, e.g., max_features, and parameter values to the param_grid dictionary to compare more\n",
    "#decision trees"
   ]
  },
  {
   "cell_type": "code",
   "execution_count": 16,
   "metadata": {},
   "outputs": [],
   "source": [
    "#Elbow Graph\n",
    "#Increasing the number of trees will increase performance until a point where it levels out - the more trees however the more\n",
    "#complicated the algorithm\n",
    "#A more complicated algorithm is more resource intensive to use\n",
    "#Generally it is worth adding complexity to the model if it improves performance but we do not want to unnecessarily add\n",
    "#complexity\n",
    "#We can use what is called an Elbow Graph to find the sweet spot\n",
    "#Elbow Graph is a model that optimizes performance without adding unnecessary complexity"
   ]
  },
  {
   "cell_type": "code",
   "execution_count": 17,
   "metadata": {},
   "outputs": [
    {
     "data": {
      "text/plain": [
       "GridSearchCV(cv=5, error_score=nan,\n",
       "             estimator=RandomForestClassifier(bootstrap=True, ccp_alpha=0.0,\n",
       "                                              class_weight=None,\n",
       "                                              criterion='gini', max_depth=None,\n",
       "                                              max_features='auto',\n",
       "                                              max_leaf_nodes=None,\n",
       "                                              max_samples=None,\n",
       "                                              min_impurity_decrease=0.0,\n",
       "                                              min_impurity_split=None,\n",
       "                                              min_samples_leaf=1,\n",
       "                                              min_samples_split=2,\n",
       "                                              min_weight_fraction_leaf=0.0,\n",
       "                                              n_estimators=100, n_jobs=None,\n",
       "                                              oob_score=False,\n",
       "                                              random_state=None, verbose=0,\n",
       "                                              warm_start=False),\n",
       "             iid='deprecated', n_jobs=None,\n",
       "             param_grid={'n_estimators': [1, 2, 3, 4, 5, 6, 7, 8, 9, 10, 11, 12,\n",
       "                                          13, 14, 15, 16, 17, 18, 19, 20, 21,\n",
       "                                          22, 23, 24, 25, 26, 27, 28, 29, 30, ...]},\n",
       "             pre_dispatch='2*n_jobs', refit=True, return_train_score=False,\n",
       "             scoring=None, verbose=0)"
      ]
     },
     "execution_count": 17,
     "metadata": {},
     "output_type": "execute_result"
    }
   ],
   "source": [
    "#To find the optimal value, do a Grid Search trying all the values from 1 to 100 for n_estimators\n",
    "n_estimators = list(range(1, 101))\n",
    "param_grid = {\n",
    "    'n_estimators': n_estimators,\n",
    "}\n",
    "rf = RandomForestClassifier()\n",
    "gs = GridSearchCV(rf, param_grid, cv=5)\n",
    "gs.fit(X, y)"
   ]
  },
  {
   "cell_type": "code",
   "execution_count": 18,
   "metadata": {},
   "outputs": [
    {
     "data": {
      "text/plain": [
       "array([0.91391088, 0.91214097, 0.93681105, 0.93847229, 0.95435491,\n",
       "       0.94553641, 0.94379755, 0.95430834, 0.95437044, 0.94202764,\n",
       "       0.95960255, 0.95784816, 0.96135693, 0.95433939, 0.95256948,\n",
       "       0.96134141, 0.96312684, 0.9561093 , 0.95433939, 0.96137246,\n",
       "       0.95606272, 0.96137246, 0.96312684, 0.95961807, 0.96132588,\n",
       "       0.95960255, 0.95783263, 0.95256948, 0.95256948, 0.95781711,\n",
       "       0.96309579, 0.96135693, 0.95961807, 0.9596336 , 0.95607825,\n",
       "       0.9595715 , 0.96488123, 0.96137246, 0.95958702, 0.96137246,\n",
       "       0.95609377, 0.96311132, 0.96312684, 0.96488123, 0.96137246,\n",
       "       0.95607825, 0.95256948, 0.95783263, 0.95960255, 0.96488123,\n",
       "       0.96488123, 0.95609377, 0.9561093 , 0.9648657 , 0.96137246,\n",
       "       0.95432386, 0.96311132, 0.95958702, 0.95960255, 0.95960255,\n",
       "       0.95958702, 0.95960255, 0.96311132, 0.96311132, 0.95961807,\n",
       "       0.96311132, 0.96311132, 0.95960255, 0.95787921, 0.96135693,\n",
       "       0.96312684, 0.96135693, 0.96312684, 0.95784816, 0.95780158,\n",
       "       0.96309579, 0.96311132, 0.96135693, 0.96134141, 0.95609377,\n",
       "       0.95783263, 0.96314237, 0.96663562, 0.95783263, 0.95960255,\n",
       "       0.96311132, 0.95783263, 0.96135693, 0.96488123, 0.95783263,\n",
       "       0.96137246, 0.95958702, 0.96662009, 0.9648657 , 0.95784816,\n",
       "       0.96135693, 0.96488123, 0.95784816, 0.96135693, 0.96837448])"
      ]
     },
     "execution_count": 18,
     "metadata": {},
     "output_type": "execute_result"
    }
   ],
   "source": [
    "#Instead of just looking at the best params, use the entire result from the grid search - the values are located in the\n",
    "#cv_results_ attribute (this is a dictionary with a lot of data however we will only need one of the keys: mean_test_score)\n",
    "#pull out these values and store them as a variable\n",
    "scores = gs.cv_results_['mean_test_score']\n",
    "scores"
   ]
  },
  {
   "cell_type": "code",
   "execution_count": 19,
   "metadata": {},
   "outputs": [
    {
     "data": {
      "image/png": "[encoded data removed]",
      "text/plain": [
       "<Figure size 432x288 with 1 Axes>"
      ]
     },
     "metadata": {
      "needs_background": "light"
     },
     "output_type": "display_data"
    }
   ],
   "source": [
    "#use matplotlib to graph the results\n",
    "import matplotlib.pyplot as plt\n",
    "\n",
    "plt.plot(n_estimators, scores)\n",
    "plt.xlabel(\"n_estimators\")\n",
    "plt.ylabel(\"accuracy\")\n",
    "plt.xlim(0, 100)\n",
    "plt.ylim(0.9, 1)\n",
    "plt.savefig(\"plot.png\")\n",
    "plt.show()"
   ]
  },
  {
   "cell_type": "code",
   "execution_count": 20,
   "metadata": {},
   "outputs": [],
   "source": [
    "#If we look at this graph, we see that around 10 trees the graph levels out\n",
    "#The best model occurred at n_estimators=33 and n_estimators=64 but given how volatile it is, that was probably due to random\n",
    "#chance\n",
    "#We should choose about 10 to be our number of estimators because we want the minimum number of estimators that still yield\n",
    "#maximum performance"
   ]
  },
  {
   "cell_type": "markdown",
   "metadata": {},
   "source": [
    "<img src=\"IMG_20230821_124019.jpg\" style=\"width:400px;height:200px;\">"
   ]
  },
  {
   "cell_type": "code",
   "execution_count": 21,
   "metadata": {},
   "outputs": [
    {
     "name": "stdout",
     "output_type": "stream",
     "text": [
      "random forest accuracy: 1.0\n"
     ]
    }
   ],
   "source": [
    "#Now wer can build our Random Forest model with the optimal number of trees\n",
    "rf = RandomForestClassifier(n_estimators=10)\n",
    "rf.fit(X, y)\n",
    "print(\"random forest accuracy:\", rf.score(X_test, y_test))"
   ]
  },
  {
   "cell_type": "code",
   "execution_count": 22,
   "metadata": {},
   "outputs": [
    {
     "data": {
      "text/plain": [
       "worst radius            0.309701\n",
       "mean concave points     0.183126\n",
       "worst concave points    0.115641\n",
       "mean perimeter          0.064119\n",
       "mean radius             0.058742\n",
       "worst concavity         0.050951\n",
       "radius error            0.049103\n",
       "mean texture            0.017197\n",
       "worst area              0.016512\n",
       "mean concavity          0.014696\n",
       "dtype: float64"
      ]
     },
     "execution_count": 22,
     "metadata": {},
     "output_type": "execute_result"
    }
   ],
   "source": [
    "#Feature importances\n",
    "#There are 30 features in the cancer dataset - does every feature contribute equally to building a model? If not, which subset\n",
    "#of features should we use? This is a matter of feature selection\n",
    "#Random Forests provide a straightforward method for feature selection - mean decrease impurity\n",
    "#Random Forests consists of many decision trees, and that for each tree, the node is chosen to split the dataset based on \n",
    "#maximum decrease in impurity, typically either Gini impurity or entropy in classification\n",
    "#For a forest, the impurity decrease from each feature can be averaged - this measure is a metri of importance of each feature\n",
    "#we then can rank and select the features according to feature importance\n",
    "#Scikit-learn provides a feature_importances_ variable with the model which shows the relative importance of each feature - the\n",
    "#scores are scaled down so that the sum of all scores is 1\n",
    "#Find the feature importances in a random forest, n_estimator=10 using the training dataset, display them in descending order\n",
    "\n",
    "import pandas as pd\n",
    "from sklearn.datasets import load_breast_cancer\n",
    "from sklearn.ensemble import RandomForestClassifier\n",
    "from sklearn.model_selection import train_test_split\n",
    "\n",
    "cancer_data = load_breast_cancer()\n",
    "df = pd.DataFrame(cancer_data['data'], columns=cancer_data['feature_names'])\n",
    "df['target'] = cancer_data['target']\n",
    "\n",
    "X = df[cancer_data.feature_names].values\n",
    "y = df['target'].values\n",
    "\n",
    "X_train, X_test, y_train, y_test = train_test_split(X, y, random_state = 101)\n",
    "rf = RandomForestClassifier(n_estimators=10, random_state=111)\n",
    "rf.fit(X_train, y_train)\n",
    "\n",
    "ft_imp = pd.Series(rf.feature_importances_, index=cancer_data.feature_names).sort_values(ascending=False)\n",
    "ft_imp.head(10)"
   ]
  },
  {
   "cell_type": "code",
   "execution_count": 23,
   "metadata": {},
   "outputs": [],
   "source": [
    "#In regression, we calculate the feature importance using variance"
   ]
  },
  {
   "cell_type": "code",
   "execution_count": 24,
   "metadata": {},
   "outputs": [],
   "source": [
    "#New model on selected features\n",
    "#The reasons to perform feature selection - it enables us to train a model faster; it reduces the complexity of a model thus\n",
    "#makes it easier to interpret\n",
    "#If the right subset is chosen, it can improve the accuracy of a model\n",
    "#Choosing the right subset often relies on domain knowledge, some art, and a bit of luck"
   ]
  },
  {
   "cell_type": "code",
   "execution_count": 25,
   "metadata": {},
   "outputs": [
    {
     "data": {
      "text/plain": [
       "0.965034965034965"
      ]
     },
     "execution_count": 25,
     "metadata": {},
     "output_type": "execute_result"
    }
   ],
   "source": [
    "#In our dataset, we happen to notice that features with \"worst\" seem to have higher importances - as a result, we are going to\n",
    "#build a new model with the selected features and see if it improves accuracy\n",
    "#the model from the last code\n",
    "rf = RandomForestClassifier(n_estimators=10, random_state=111)\n",
    "rf.fit(X_train, y_train)\n",
    "rf.score(X_test, y_test)"
   ]
  },
  {
   "cell_type": "code",
   "execution_count": 26,
   "metadata": {},
   "outputs": [
    {
     "data": {
      "text/plain": [
       "['worst radius',\n",
       " 'worst texture',\n",
       " 'worst perimeter',\n",
       " 'worst area',\n",
       " 'worst smoothness',\n",
       " 'worst compactness',\n",
       " 'worst concavity',\n",
       " 'worst concave points',\n",
       " 'worst symmetry',\n",
       " 'worst fractal dimension']"
      ]
     },
     "execution_count": 26,
     "metadata": {},
     "output_type": "execute_result"
    }
   ],
   "source": [
    "#We first find the features whose names include th word \"worst\"\n",
    "worst_cols = [col for col in df.columns if 'worst' in col]\n",
    "worst_cols"
   ]
  },
  {
   "cell_type": "code",
   "execution_count": 27,
   "metadata": {},
   "outputs": [
    {
     "data": {
      "text/plain": [
       "0.972027972027972"
      ]
     },
     "execution_count": 27,
     "metadata": {},
     "output_type": "execute_result"
    }
   ],
   "source": [
    "#create another DataFrame with the selected features, followed by a train test split with the same random state\n",
    "X_worst = df[worst_cols]\n",
    "X_train, X_test, y_train, y_test = train_test_split(X_worst, y, random_state=101)\n",
    "#fit the model and output the accuracy\n",
    "rf.fit(X_train, y_train)\n",
    "rf.score(X_test, y_test)"
   ]
  },
  {
   "cell_type": "code",
   "execution_count": 28,
   "metadata": {},
   "outputs": [],
   "source": [
    "#Here we are able to improve the accuracy using a subset of features, a third of the total features - this is because we\n",
    "#removed some noise and highly correlated features, resulting in an increased accuracy\n",
    "#The advantage of building a better model using less features will be more pronounced when the sample size is large\n",
    "#There is no best feature selection method, at least not universally\n",
    "#Instead, we must discover what works best for the specific problem and leverage the domain expertise to build a good model\n",
    "#Scikit-learn provides an easy way to discover the feature importances"
   ]
  },
  {
   "cell_type": "code",
   "execution_count": 29,
   "metadata": {},
   "outputs": [],
   "source": [
    "#Random Forest pros and cons\n",
    "#The biggest advantage of Random Forests is that they generally perform well without any tuning\n",
    "#They will also perform decently well on almost every dataset\n",
    "#A linear model, for example, cannot perform well on a dataset that cannot be split with a line\n",
    "#It is not possible to split the following dataset with a line without manipulating the features - a random forest will perform\n",
    "#just fine on this dataset"
   ]
  },
  {
   "cell_type": "markdown",
   "metadata": {},
   "source": [
    "<img src=\"IMG_20230821_224323.jpg\" style=\"width:600px;height:300px;\">"
   ]
  },
  {
   "cell_type": "code",
   "execution_count": 30,
   "metadata": {},
   "outputs": [
    {
     "name": "stdout",
     "output_type": "stream",
     "text": [
      "LR accuracy: 0.36\n",
      "RF accuracy: 0.8099999999999999\n"
     ]
    }
   ],
   "source": [
    "#We can see this by looking by looking at the following code to generate a toy dataset using the function make_circles\n",
    "#which makes a classification dataset with concentric circles and compare a Logistic Regression model with a Random Forest model\n",
    "#We use KFold cross validation to compare the accuracy scores and see that the Logistic Regression model performs worse than\n",
    "#random guessing but the Random Forest model performs quite well\n",
    "from sklearn.datasets import make_circles\n",
    "from sklearn.model_selection import KFold\n",
    "from sklearn.linear_model import LogisticRegression\n",
    "from sklearn.ensemble import RandomForestClassifier\n",
    "import numpy as np\n",
    "\n",
    "X, y = make_circles(noise=0.2, factor=0.5, random_state=1)\n",
    "\n",
    "kf = KFold(n_splits=5, shuffle=True, random_state=1)\n",
    "\n",
    "lr_scores = []\n",
    "rf_scores = []\n",
    "for train_index, test_index in kf.split(X):\n",
    "    X_train, X_test = X[train_index], X[test_index]\n",
    "    y_train, y_test = y[train_index], y[test_index]\n",
    "    lr = LogisticRegression(solver='lbfgs')\n",
    "    lr.fit(X_train, y_train)\n",
    "    lr_scores.append(lr.score(X_test, y_test))\n",
    "    \n",
    "    rf = RandomForestClassifier(n_estimators = 100)\n",
    "    rf.fit(X_train, y_train)\n",
    "    rf_scores.append(rf.score(X_test, y_test))\n",
    "    \n",
    "print(\"LR accuracy:\", np.mean(lr_scores))\n",
    "print(\"RF accuracy:\", np.mean(rf_scores))"
   ]
  },
  {
   "cell_type": "code",
   "execution_count": 31,
   "metadata": {},
   "outputs": [
    {
     "name": "stdout",
     "output_type": "stream",
     "text": [
      "[[-0.38289117 -0.09084004]\n",
      " [-0.02096229 -0.47787416]\n",
      " [-0.39611596 -1.28942694]\n",
      " [-0.61813018 -0.06383715]\n",
      " [ 0.70347838 -0.18703837]\n",
      " [-0.45970463  0.69477465]\n",
      " [-0.45091682 -0.71570524]\n",
      " [-0.45562004 -0.13406016]\n",
      " [-0.26513904  0.40812871]\n",
      " [-0.15474648  0.41406973]\n",
      " [ 0.231206   -0.53275899]\n",
      " [ 0.15623875 -0.8678088 ]\n",
      " [ 0.51647541  0.48940995]\n",
      " [ 0.68707007 -0.02334129]\n",
      " [ 0.54759869 -0.16482373]\n",
      " [-0.32179572 -0.80553536]\n",
      " [-1.07478639 -0.733362  ]\n",
      " [ 0.76758455 -0.43498783]\n",
      " [-0.47475234 -0.33813186]\n",
      " [ 0.15420656  1.07306032]\n",
      " [ 0.65916696  0.20773634]\n",
      " [-0.77795003  0.1326555 ]\n",
      " [ 0.47025454 -0.31228748]\n",
      " [-0.04246799  0.26555446]\n",
      " [-0.72405954  0.48807185]\n",
      " [-0.36960005 -1.06514028]\n",
      " [ 0.17833327 -0.49718972]\n",
      " [-0.93927864 -0.41951638]\n",
      " [ 0.50914152 -0.70977467]\n",
      " [-0.05569852 -0.82162607]\n",
      " [-0.11214579  0.72197044]\n",
      " [ 0.80463921 -0.15221296]\n",
      " [ 0.08261487 -0.11749021]\n",
      " [ 0.20349541 -0.37396789]\n",
      " [ 0.13864693 -0.23905642]\n",
      " [ 0.32785307 -1.00769037]\n",
      " [ 0.88944061 -0.39117628]\n",
      " [-0.05837947  0.28487039]\n",
      " [-1.0673653   0.2204006 ]\n",
      " [-0.60071345 -0.69545189]\n",
      " [-0.03972324 -0.40936056]\n",
      " [ 0.39742085  0.20621162]\n",
      " [-0.36941154  0.0129811 ]\n",
      " [ 0.03573703  0.46666229]\n",
      " [-0.56814999 -0.41288419]\n",
      " [ 0.41047299 -0.73640868]\n",
      " [ 0.88249707 -0.69004404]\n",
      " [ 0.06579822 -0.50458395]\n",
      " [-0.75737223 -0.0724028 ]\n",
      " [ 0.18316966  0.08722007]\n",
      " [ 0.67248314 -0.41892665]\n",
      " [ 0.25898723  0.39688645]\n",
      " [-1.1312983   0.4810614 ]\n",
      " [ 1.0592844   0.64490287]\n",
      " [ 0.41019663  0.38790198]\n",
      " [ 0.95142029 -0.04089983]\n",
      " [-0.60492988  0.43950906]\n",
      " [ 0.23314762 -0.81785711]\n",
      " [ 0.91067331  0.30702075]\n",
      " [-0.45026472 -0.03724104]\n",
      " [-0.81396121 -0.64733959]\n",
      " [-0.23191338  0.50533992]\n",
      " [-0.59760983  0.28023168]\n",
      " [ 0.73960166 -0.84270281]\n",
      " [ 0.57294659 -0.31198928]\n",
      " [ 0.24821133 -0.54784509]\n",
      " [ 0.52127802  0.94108005]\n",
      " [ 0.33973198  0.10609978]\n",
      " [ 1.05339036 -0.02197593]\n",
      " [ 0.01327466 -0.63379502]\n",
      " [ 0.2422589   0.49032064]\n",
      " [-0.89266612  0.6345076 ]\n",
      " [ 0.1672566   0.23548462]\n",
      " [-0.05611705  0.38834099]\n",
      " [ 0.84695486  0.81435811]\n",
      " [ 0.29976195 -0.07943031]\n",
      " [-0.1404762   0.72486032]\n",
      " [-0.05482024  0.18417328]\n",
      " [-0.24643884 -0.43283337]\n",
      " [-0.23460645  0.6409442 ]\n",
      " [-1.13184893 -0.61964942]\n",
      " [-0.92413821 -0.45302089]\n",
      " [ 0.2225745   0.77052597]\n",
      " [-0.69453765  0.53014147]\n",
      " [-1.0362509   0.77339965]\n",
      " [ 0.51880585  0.30152232]\n",
      " [-0.77429541  0.02553767]\n",
      " [ 0.71468326  0.56869015]\n",
      " [-0.33875274  0.46826063]\n",
      " [-0.34749244  0.13441418]\n",
      " [ 1.12980796  0.04281936]\n",
      " [-0.38308979  0.79116812]\n",
      " [-0.07425141  0.2184625 ]\n",
      " [-0.44945202 -0.05722266]\n",
      " [ 0.85783288  0.63778888]\n",
      " [-0.47486203 -0.22498112]\n",
      " [ 0.12627243  0.86978412]\n",
      " [-0.64736458 -0.36342437]\n",
      " [ 0.47440459  1.01101585]\n",
      " [-0.38565772 -0.81031183]]\n",
      "[1 1 0 1 1 0 0 1 1 1 1 0 1 1 1 0 0 0 1 0 0 1 1 1 0 0 1 0 0 0 1 1 1 1 1 0 0\n",
      " 1 0 0 1 1 1 0 1 0 0 1 0 1 0 1 0 0 1 0 0 1 0 1 0 1 1 0 0 1 0 1 0 1 1 0 1 1\n",
      " 0 1 0 1 1 0 0 0 0 0 0 1 0 0 1 1 0 0 1 1 0 1 0 1 0 0]\n"
     ]
    }
   ],
   "source": [
    "print(X)\n",
    "print(y)"
   ]
  },
  {
   "cell_type": "code",
   "execution_count": 32,
   "metadata": {},
   "outputs": [
    {
     "data": {
      "image/png": "[encoded data removed]",
      "text/plain": [
       "<Figure size 432x288 with 1 Axes>"
      ]
     },
     "metadata": {
      "needs_background": "light"
     },
     "output_type": "display_data"
    }
   ],
   "source": [
    "from matplotlib import pyplot as plt\n",
    "plt.scatter(X[y==0][:, 0], X[y==0][:, 1], s=100, edgecolors='k')\n",
    "plt.scatter(X[y==1][:, 0], X[y==1][:, 1], s=100, edgecolors='k', marker='^')\n",
    "plt.savefig(\"plot.png\")\n",
    "plt.show()"
   ]
  },
  {
   "cell_type": "code",
   "execution_count": 33,
   "metadata": {},
   "outputs": [],
   "source": [
    "#When looking to get a benchmark for a new classification problem, it is common practice to start by building a Logistic \n",
    "#Regression model and a Random Forest model as these two models both have potential to perform well without any tuning\n",
    "#This will give you values for your metrics to try to beat\n",
    "#Oftentimes it is almost imppossible to do better than these benchmarks"
   ]
  },
  {
   "cell_type": "code",
   "execution_count": 34,
   "metadata": {},
   "outputs": [],
   "source": [
    "#Interpretability\n",
    "#Random Forests despite being made up of Decision Trees are not easy to interpret\n",
    "#A random forest has several decision trees, each of which is not a very good model but when averaged create an excellent model\n",
    "#Thus Random Forests are not a good choice when looking for interpretability - in most cases, interpretability is not important"
   ]
  },
  {
   "cell_type": "code",
   "execution_count": 35,
   "metadata": {},
   "outputs": [],
   "source": [
    "#Computation\n",
    "#Random Forests can be a little slow to build, especially if you have a lot of trees in the random forest\n",
    "#Random Forests are not the fastest model, but generally this is not a problem since the computational power of computers is\n",
    "#a lot"
   ]
  },
  {
   "cell_type": "code",
   "execution_count": null,
   "metadata": {},
   "outputs": [],
   "source": []
  }
 ],
 "metadata": {
  "kernelspec": {
   "display_name": "Python 3",
   "language": "python",
   "name": "python3"
  },
  "language_info": {
   "codemirror_mode": {
    "name": "ipython",
    "version": 3
   },
   "file_extension": ".py",
   "mimetype": "text/x-python",
   "name": "python",
   "nbconvert_exporter": "python",
   "pygments_lexer": "ipython3",
   "version": "3.7.6"
  }
 },
 "nbformat": 4,
 "nbformat_minor": 4
}
