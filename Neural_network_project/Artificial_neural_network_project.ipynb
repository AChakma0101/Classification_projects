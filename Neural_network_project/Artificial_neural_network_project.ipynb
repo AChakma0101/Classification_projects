{
 "cells": [
  {
   "cell_type": "code",
   "execution_count": 1,
   "metadata": {},
   "outputs": [],
   "source": [
    "#Neural network use cases - Neural Networds are incredibly popular and powerful machine learning models\n",
    "#They often perform well in cases where we have a lot of features as they automatically do feature engineering without\n",
    "#requiring domain knowledge to restructure the features\n",
    "#Each pixel in image data is a feature in neural networks\n",
    "#They are all commonly used in text data and voice recognition as well\n",
    "#Neural networks often work well without you needing to use domain knowledge to do any feature engineering"
   ]
  },
  {
   "cell_type": "code",
   "execution_count": 2,
   "metadata": {},
   "outputs": [],
   "source": [
    "#A more accurate term for Neural Networks is Artificial Neural Networks (ANN), inspired by how biological neural networks work\n",
    "#in human brains\n",
    "#An artificial neuron (often called a node) is modeled after a biological neuron - it is a simple object that can take input, do\n",
    "#some calculations with the input, and produce an output\n",
    "#We visually represent neurons as follows:\n",
    "#x1 and x2 are the inputs, inside the neuron, some computation is done based on x1 and x2 to produce the output y1\n",
    "#Neurons can take any number of inputs and can also produce any number of outputs\n",
    "#Each neuron is only capable of a small computation, but when working together they become capable of solving large and \n",
    "#complicated problems"
   ]
  },
  {
   "cell_type": "markdown",
   "metadata": {},
   "source": [
    "<img src=\"IMG_20230822_130145.jpg\" style=\"width:500px;height:300px;\">"
   ]
  },
  {
   "cell_type": "code",
   "execution_count": 3,
   "metadata": {},
   "outputs": [],
   "source": [
    "#Neuron computations - inside the neuron, to do the computation to produce the output, we first put the inputs in the following\n",
    "#equation"
   ]
  },
  {
   "cell_type": "markdown",
   "metadata": {},
   "source": [
    "<img src=\"IMG_20230822_141058.jpg\" style=\"width:500px;height:300px;\">"
   ]
  },
  {
   "cell_type": "code",
   "execution_count": 4,
   "metadata": {},
   "outputs": [],
   "source": [
    "#x1 and x2 are the inputs\n",
    "#In logistic regression, w1, w2 and b are referred to as the coefficients\n",
    "#In neural networks, w1 and w2 are referred to as weights and b as the bias - we plug this value into what is called an\n",
    "#activation function\n",
    "#The above equation can have a result of any real number - the activation function condenses it into a fixed range (often\n",
    "#between 0 and 1)\n",
    "#A commonly used activation function is the sigmoid function, the same function used in logistic regression - this function\n",
    "#produces a value between 0 and 1"
   ]
  },
  {
   "cell_type": "markdown",
   "metadata": {},
   "source": [
    "<img src=\"IMG_20230822_142025.jpg\" style=\"width:500px;height:300px;\">"
   ]
  },
  {
   "cell_type": "code",
   "execution_count": 5,
   "metadata": {},
   "outputs": [],
   "source": [
    "#The sigmoind has the following shape"
   ]
  },
  {
   "cell_type": "markdown",
   "metadata": {},
   "source": [
    "<img src=\"IMG_20230822_142008.jpg\" style=\"width:500px;height:300px;\">"
   ]
  },
  {
   "cell_type": "code",
   "execution_count": 6,
   "metadata": {},
   "outputs": [],
   "source": [
    "#To get the output fromt the inputs, we do the following computation - the weights w1 and w2, and the bias b control what the\n",
    "#neuron does - these values are called parameters\n",
    "#The function f is the activation function (in this case the sigmoid function)\n",
    "#The y is the neuron's output"
   ]
  },
  {
   "cell_type": "markdown",
   "metadata": {},
   "source": [
    "<img src=\"IMG_20230822_141952.jpg\" style=\"width:500px;height:300px;\">"
   ]
  },
  {
   "cell_type": "code",
   "execution_count": 7,
   "metadata": {},
   "outputs": [],
   "source": [
    "#This function can be generalized to have any number of inputs (xi) and thus the corresponding number of weights (wi)"
   ]
  },
  {
   "cell_type": "code",
   "execution_count": 8,
   "metadata": {},
   "outputs": [],
   "source": [
    "#Activation Functions - There are three commonly used activation functions: sigmoid, tanh, and ReLU\n",
    "#tanh has a similar form to sigmoid, though ranges from -1 to 1 instead of 0 to 1 - tanh is the hyperbolic tan function"
   ]
  },
  {
   "cell_type": "markdown",
   "metadata": {},
   "source": [
    "<img src=\"IMG_20230822_154915.jpg\" style=\"width:500px;height:300px;\">"
   ]
  },
  {
   "cell_type": "code",
   "execution_count": 9,
   "metadata": {},
   "outputs": [],
   "source": [
    "#The graph of tanh"
   ]
  },
  {
   "cell_type": "markdown",
   "metadata": {},
   "source": [
    "<img src=\"IMG_20230822_154901.jpg\" style=\"width:500px;height:300px;\">"
   ]
  },
  {
   "cell_type": "code",
   "execution_count": 10,
   "metadata": {},
   "outputs": [],
   "source": [
    "#ReLU stands for Rectified Linear Unit - it is the identity function for positive numbers and sends negative numbers to 0\n",
    "#The equation and graph"
   ]
  },
  {
   "cell_type": "markdown",
   "metadata": {},
   "source": [
    "<img src=\"IMG_20230822_154846.jpg\" style=\"width:500px;height:300px;\">\n",
    "<img src=\"IMG_20230822_154823.jpg\" style=\"width:500px;height:300px;\">"
   ]
  },
  {
   "cell_type": "code",
   "execution_count": 11,
   "metadata": {},
   "outputs": [],
   "source": [
    "#Any of these activation functions will work well - which one to use will depend on specifics of our data\n",
    "#In practice, we figure out which one to use by comparing the performance of different neural networks"
   ]
  },
  {
   "cell_type": "code",
   "execution_count": 12,
   "metadata": {},
   "outputs": [],
   "source": [
    "#An example\n",
    "#Assume we have a neuron that takes 2 inputs and produces 1 output and whose activation function is sigmoid - the parameters are\n",
    "#Weights (w1, w2) = [0, 1]\n",
    "#Bias (b) = 2\n",
    "#If we give the neuron input (1, 2) we get the following calculation"
   ]
  },
  {
   "cell_type": "markdown",
   "metadata": {},
   "source": [
    "<img src=\"IMG_20230822_155914.jpg\" style=\"width:500px;height:300px;\">"
   ]
  },
  {
   "cell_type": "code",
   "execution_count": 13,
   "metadata": {},
   "outputs": [],
   "source": [
    "#The neuron yields an output of 0.9820\n",
    "#Alternatively, if we give the neuron input (2, -2) we get the following calculation"
   ]
  },
  {
   "cell_type": "markdown",
   "metadata": {},
   "source": [
    "<img src=\"IMG_20230822_155856.jpg\" style=\"width:500px;height:300px;\">"
   ]
  },
  {
   "cell_type": "code",
   "execution_count": 14,
   "metadata": {},
   "outputs": [],
   "source": [
    "#The neuron with this input yields an output of 0.5\n",
    "#A neuron by itself does not have much power, but when we build a network of neurons, we can see how powerful they are together"
   ]
  },
  {
   "cell_type": "code",
   "execution_count": 15,
   "metadata": {},
   "outputs": [],
   "source": [
    "#Multi-Layer Perceptron (MLP) - To create a neural network we combine neurons together so that the outputs of some neurons are\n",
    "#inputs of other neurons, we will be working with feed forward neural networks which means that the neurons only send signals\n",
    "#in one direction, in particular, we will be working with what is called a Multi-Layer Perceptron (MLP)\n",
    "#The neural network has multiple layers as depicted below"
   ]
  },
  {
   "cell_type": "markdown",
   "metadata": {},
   "source": [
    "<img src=\"IMG_20230822_185232.jpg\" style=\"width:500px;height:300px;\">"
   ]
  },
  {
   "cell_type": "code",
   "execution_count": 16,
   "metadata": {},
   "outputs": [],
   "source": [
    "#A multi-layer perceptron will always have one input layer, with a neuron (or node) for each input\n",
    "#In the neural network above, there are two inputs and thus two input nodes\n",
    "#It will have one output layer, with a node for each output - above, there is 1 output node for a single output value\n",
    "#It can have any number of hidden layers and each hidden layer can have any number of nodes - above, there is one hidden layer\n",
    "#with 5 nodes"
   ]
  },
  {
   "cell_type": "code",
   "execution_count": 17,
   "metadata": {},
   "outputs": [],
   "source": [
    "#The nodes in the input layer take a single input value and pass it forward\n",
    "#The nodes in the hidden layers as well as the output layer can take multiple inputs but they always produce a single output\n",
    "#Sometimes, the nodes need to pass their output to multiple nodes - in the example above, the nodes in the input layer pass\n",
    "#their output to each of the five nodes in the hidden layer\n",
    "#A single-layer perceptron is a neural network without any hidden layers - these are rarely used\n",
    "#Most neural networks are multi-layer perceptrons, generally with one or two hidden layers"
   ]
  },
  {
   "cell_type": "code",
   "execution_count": 18,
   "metadata": {},
   "outputs": [],
   "source": [
    "#Example Neural Network - a neural network that solves any real problem will be too large to interpret, sowe will walk through\n",
    "#a simple example\n",
    "#We have a neural network with two inputs, a single hidden layer with two nodes and one output\n",
    "#The weights and bias are given in the nodes below - all the nodes use the sigmoid activation function"
   ]
  },
  {
   "cell_type": "markdown",
   "metadata": {},
   "source": [
    "<img src=\"IMG_20230822_191545.jpg\" style=\"width:500px;height:300px;\">"
   ]
  },
  {
   "cell_type": "code",
   "execution_count": 19,
   "metadata": {},
   "outputs": [],
   "source": [
    "#Let the input be (3, 2) - the output for the first node in the hidden layer"
   ]
  },
  {
   "cell_type": "markdown",
   "metadata": {},
   "source": [
    "<img src=\"IMG_20230822_191938.jpg\" style=\"width:500px;height:300px;\">"
   ]
  },
  {
   "cell_type": "code",
   "execution_count": 20,
   "metadata": {},
   "outputs": [],
   "source": [
    "#The output for the second node in the hidden layer"
   ]
  },
  {
   "cell_type": "markdown",
   "metadata": {},
   "source": [
    "<img src=\"IMG_20230822_191921.jpg\" style=\"width:500px;height:300px;\">"
   ]
  },
  {
   "cell_type": "code",
   "execution_count": 21,
   "metadata": {},
   "outputs": [],
   "source": [
    "#The output from the node in the output layer - this node takes the outputs from the hidden layer as input"
   ]
  },
  {
   "cell_type": "markdown",
   "metadata": {},
   "source": [
    "<img src=\"IMG_20230822_191905.jpg\" style=\"width:500px;height:300px;\">"
   ]
  },
  {
   "cell_type": "code",
   "execution_count": 22,
   "metadata": {},
   "outputs": [],
   "source": [
    "#Thus for the input (3, 2) the output of the neural network is 0.8680\n",
    "#To change, how the neural network performs, we can change the weights and bias values"
   ]
  },
  {
   "cell_type": "code",
   "execution_count": 23,
   "metadata": {},
   "outputs": [],
   "source": [
    "#More than 2 target values - a nice benefit of an MLP classifier is that it easily extends to problems that have more than 2\n",
    "#target values\n",
    "#In some cases, we will be choosing among 3 or more possible outputs - a neural network does this naturally (we just need to\n",
    "#add more nodes to the output layer), for example, if we are trying to predict if an image is a bird, cat or dog, we will have\n",
    "#three output nodes"
   ]
  },
  {
   "cell_type": "markdown",
   "metadata": {},
   "source": [
    "<img src=\"IMG_20230822_193115.jpg\" style=\"width:500px;height:300px;\">"
   ]
  },
  {
   "cell_type": "code",
   "execution_count": 24,
   "metadata": {},
   "outputs": [],
   "source": [
    "#The first (y1) measures if the image is a bird, the second (y2) measures if the image is a cat, and the third (y3) measures\n",
    "#if the image is a dog - the model chooses the output with the highest value\n",
    "#for example, for a given image input, the neural network outputs y1=0.3, y2=0.2, y3=0.5, the model would then determine the\n",
    "#image has a dog (y3) in it\n",
    "#we can use any classifier for a multi-class problem, but neural networks generalize naturally"
   ]
  },
  {
   "cell_type": "code",
   "execution_count": 25,
   "metadata": {},
   "outputs": [],
   "source": [
    "#Training the neural network - in order to train a neural network, we need to define a loss function\n",
    "#Loss function is a measure of how far off our neural network is from being perfect\n",
    "#When we train the neural network, we are optimizing a loss function\n",
    "#We will use cross entropy as our loss function -  this is the same as the likehood we used in logistic regression but is called\n",
    "#by a different name in this context\n",
    "#we calculate the cross entropy as follows"
   ]
  },
  {
   "cell_type": "markdown",
   "metadata": {},
   "source": [
    "<img src=\"IMG_20230822_195500.jpg\" style=\"width:500px;height:300px;\">"
   ]
  },
  {
   "cell_type": "code",
   "execution_count": 26,
   "metadata": {},
   "outputs": [],
   "source": [
    "#We multiply together the cross entropy values for all the datapoints\n",
    "#Let's say we have two models to compare on a tiny dataset with 4 datapoints\n",
    "#The example table of the true values, the predicted probabilities for model1 and the predicted probabilities for model2"
   ]
  },
  {
   "cell_type": "markdown",
   "metadata": {},
   "source": [
    "<img src=\"IMG_20230822_195445.jpg\" style=\"width:500px;height:300px;\">"
   ]
  },
  {
   "cell_type": "code",
   "execution_count": 27,
   "metadata": {},
   "outputs": [],
   "source": [
    "#The cross entropy for model1 is:\n",
    "#0.6 * 0.8 * (1 - 0.3) * (1 - 0.4) = 0.2016\n",
    "#The cross entropy for model2 is:\n",
    "#0.5 * 0.9 *(1 - 0.1) * (1 - 0.5) = 0.2025\n",
    "#Cross entropy will be higher the better the model is\n",
    "#As with likelihood function in logistic regression, we use the loss function to find the best possible model"
   ]
  },
  {
   "cell_type": "code",
   "execution_count": 28,
   "metadata": {},
   "outputs": [],
   "source": [
    "#Backpropagation\n",
    "#A neural network has a lot of parameters that we can control - there are several coefficients for each node and there can be\n",
    "#a lot of nodes\n",
    "#The process for updating these values to converge on the best possible model is quite complicated - the neural network works\n",
    "#backwards from the output node iteratively updating the coefficients of the nodes\n",
    "#This process of moving backwards through the neural network is called backpropagation or backprop - the idea is that we\n",
    "#initialize all the coefficient values and iteratively change the values so that at every iteration we see improvement in the\n",
    "#loss function - eventually we cannot improve the loss function anymore and then we have found our optimal model\n",
    "#Before we create a neural network, we fix the number of nodes and number of layers - then we use backprop to iteratively\n",
    "#update all the coefficient values until we converge on an optimal neural network"
   ]
  },
  {
   "cell_type": "code",
   "execution_count": 29,
   "metadata": {},
   "outputs": [],
   "source": [
    "#Neural networks in scikit-learn\n",
    "#Sometimes in order to test models, it is helpful to create an artificial dataset - we can create a dataset of the size and\n",
    "#complexity needed\n",
    "#This can help us understand how models work before we apply them to messy real world data\n",
    "#We will use the make_classification function in scikit-learn -  it generates a feature matrix X and target array y\n",
    "#We will give it these parameters: n_samples (number of datapoints), n_features (number of features), n_informative (number of\n",
    "#informative features), random_state (random state to guarantee same result every time)"
   ]
  },
  {
   "cell_type": "code",
   "execution_count": 30,
   "metadata": {},
   "outputs": [
    {
     "data": {
      "text/plain": [
       "array([[ 1.29619246, -1.19338286],\n",
       "       [ 0.76455807, -2.44539487],\n",
       "       [-0.56135339,  1.44773498],\n",
       "       [ 0.09018381, -0.21892726],\n",
       "       [ 3.20977007, -1.03881206],\n",
       "       [ 0.80001485, -1.66246266],\n",
       "       [ 0.88468364, -0.41310735],\n",
       "       [ 1.44727831,  0.57410216],\n",
       "       [ 0.17890668,  1.6394023 ],\n",
       "       [-0.58100008,  0.33584532],\n",
       "       [-0.40007267,  2.04119894],\n",
       "       [ 0.86736895, -2.33598454],\n",
       "       [ 2.57067557, -0.2757088 ],\n",
       "       [-0.50604244,  0.36615269],\n",
       "       [ 0.58326712,  1.22009748],\n",
       "       [ 2.35993321, -0.12424544],\n",
       "       [-0.25023328,  0.0491287 ],\n",
       "       [ 1.54520785,  0.55053486],\n",
       "       [-0.12132899, -0.58306026],\n",
       "       [ 1.93823769,  0.08503077],\n",
       "       [ 0.26842648, -0.03321614],\n",
       "       [ 1.28259341, -0.6052909 ],\n",
       "       [-1.24399007,  0.44172354],\n",
       "       [-0.33252253, -0.4085363 ],\n",
       "       [-0.25906554,  2.1460918 ],\n",
       "       [-2.04183382,  1.62989998],\n",
       "       [ 0.75356541,  0.74284632],\n",
       "       [ 0.74494799, -1.69867877],\n",
       "       [-2.08503765,  1.69398556],\n",
       "       [ 0.64755294,  1.35713573],\n",
       "       [ 1.36023958, -0.42680268],\n",
       "       [-1.20002643,  1.52879135],\n",
       "       [-1.16926167, -2.94592209],\n",
       "       [ 1.50713573,  0.49784377],\n",
       "       [-0.86717188,  0.44292896],\n",
       "       [-0.65100851, -0.18139162],\n",
       "       [-0.61231169,  1.9581328 ],\n",
       "       [ 0.76943194, -1.27209495],\n",
       "       [ 1.42047213,  0.52835339],\n",
       "       [ 1.15720441,  0.62857476],\n",
       "       [ 1.2110195 , -0.99340173],\n",
       "       [ 1.08891926,  1.01427378],\n",
       "       [-1.21637928, -0.67049437],\n",
       "       [ 0.7540882 , -0.59292029],\n",
       "       [ 0.65104016, -0.87540635],\n",
       "       [ 0.61228622, -0.66760619],\n",
       "       [-1.15322318, -0.55930594],\n",
       "       [ 0.9751491 , -0.07935889],\n",
       "       [-0.68752925,  2.70557335],\n",
       "       [ 1.45467028,  0.5305809 ],\n",
       "       [-1.02934082,  1.61882875],\n",
       "       [ 0.73121797,  0.78491622],\n",
       "       [-0.76836066,  2.64536187],\n",
       "       [ 1.36803133, -0.42683556],\n",
       "       [ 1.5712194 , -0.56634981],\n",
       "       [-1.17635927, -0.4082274 ],\n",
       "       [ 0.04109935,  1.09921185],\n",
       "       [ 1.02875005,  1.09087416],\n",
       "       [-2.66474084,  2.49277994],\n",
       "       [ 0.66721754, -1.10970556],\n",
       "       [ 1.41977144, -1.15516349],\n",
       "       [ 0.72549452, -0.50767362],\n",
       "       [-0.87117928, -0.54828912],\n",
       "       [ 1.4248824 ,  0.71838145],\n",
       "       [ 0.7897617 ,  0.31888107],\n",
       "       [-2.55673111,  0.48095735],\n",
       "       [-2.06574644,  1.18794747],\n",
       "       [-2.16875069, -1.45409905],\n",
       "       [-1.82761265,  1.00873328],\n",
       "       [-0.92431911, -3.11057891],\n",
       "       [ 0.64138689, -0.83568997],\n",
       "       [ 0.60949189,  1.31324877],\n",
       "       [ 0.87593712, -0.74419114],\n",
       "       [-0.71866586, -1.81113273],\n",
       "       [-3.10109522,  1.89328788],\n",
       "       [-1.86364246,  0.58521398],\n",
       "       [-2.37591355, -1.96095268],\n",
       "       [ 1.7770297 ,  0.32045557],\n",
       "       [-2.42774861, -0.53244395],\n",
       "       [ 2.80187717, -0.52159417],\n",
       "       [ 0.94455323, -0.82339639],\n",
       "       [-1.36513923,  0.70919674],\n",
       "       [ 1.0867211 , -0.7351246 ],\n",
       "       [ 1.36152909,  0.5689553 ],\n",
       "       [ 0.92367965, -0.61803853],\n",
       "       [-0.21235292, -0.34674362],\n",
       "       [-1.39689542,  3.18322911],\n",
       "       [ 0.51446525, -0.26083015],\n",
       "       [ 1.74504674,  0.24178588],\n",
       "       [ 1.1187257 ,  0.37451255],\n",
       "       [ 0.68360034,  1.05726979],\n",
       "       [-0.02464677,  0.17999889],\n",
       "       [-1.09661596,  0.63259348],\n",
       "       [-2.59347523, -2.28949135],\n",
       "       [-0.278784  ,  0.14422342],\n",
       "       [ 0.56662388, -1.17736331],\n",
       "       [-1.68605938, -1.1761977 ],\n",
       "       [-0.17340918,  1.97480402],\n",
       "       [ 1.50088126, -1.69179892],\n",
       "       [ 0.85639208,  1.09821007]])"
      ]
     },
     "execution_count": 30,
     "metadata": {},
     "output_type": "execute_result"
    }
   ],
   "source": [
    "#the code to generate a dataset\n",
    "from sklearn.datasets import make_classification\n",
    "X, y = make_classification(n_features=2, n_redundant=0, n_informative=2, random_state=3)\n",
    "X"
   ]
  },
  {
   "cell_type": "code",
   "execution_count": 31,
   "metadata": {},
   "outputs": [
    {
     "data": {
      "text/plain": [
       "array([0, 0, 1, 0, 1, 0, 1, 1, 1, 1, 1, 0, 1, 0, 1, 1, 1, 1, 0, 1, 1, 0,\n",
       "       1, 0, 1, 1, 1, 0, 1, 1, 0, 0, 0, 1, 1, 0, 1, 0, 1, 1, 0, 1, 0, 0,\n",
       "       0, 0, 0, 0, 1, 1, 1, 1, 1, 0, 0, 0, 1, 1, 1, 0, 0, 0, 0, 1, 0, 1,\n",
       "       1, 0, 1, 0, 0, 1, 0, 1, 1, 0, 0, 1, 0, 1, 0, 0, 0, 1, 0, 1, 1, 0,\n",
       "       1, 0, 1, 0, 0, 0, 0, 0, 0, 1, 0, 1])"
      ]
     },
     "execution_count": 31,
     "metadata": {},
     "output_type": "execute_result"
    }
   ],
   "source": [
    "y"
   ]
  },
  {
   "cell_type": "code",
   "execution_count": 32,
   "metadata": {},
   "outputs": [
    {
     "data": {
      "image/png": "[encoded data removed]",
      "text/plain": [
       "<Figure size 432x288 with 1 Axes>"
      ]
     },
     "metadata": {
      "needs_background": "light"
     },
     "output_type": "display_data"
    }
   ],
   "source": [
    "#the code to plot the data so we can look at it visually\n",
    "from matplotlib import pyplot as plt\n",
    "plt.scatter(X[y==0][:, 0], X[y==0][:, 1], s=100, edgecolors='k')\n",
    "plt.scatter(X[y==1][:, 0], X[y==1][:, 1], s=100, edgecolors='k', marker='^')\n",
    "plt.savefig(\"plot.png\")\n",
    "plt.show()"
   ]
  },
  {
   "cell_type": "code",
   "execution_count": 33,
   "metadata": {},
   "outputs": [],
   "source": [
    "#Scikit_learn has a couple other functions besides make_classification for making classification datasets with different\n",
    "#properties, check out make_cirlces, make_moons"
   ]
  },
  {
   "cell_type": "code",
   "execution_count": 34,
   "metadata": {},
   "outputs": [
    {
     "name": "stderr",
     "output_type": "stream",
     "text": [
      "C:\\Users\\ANTON CHAKMA\\anaconda3\\lib\\site-packages\\sklearn\\neural_network\\_multilayer_perceptron.py:571: ConvergenceWarning: Stochastic Optimizer: Maximum iterations (200) reached and the optimization hasn't converged yet.\n",
      "  % self.max_iter, ConvergenceWarning)\n"
     ]
    },
    {
     "data": {
      "text/plain": [
       "MLPClassifier(activation='relu', alpha=0.0001, batch_size='auto', beta_1=0.9,\n",
       "              beta_2=0.999, early_stopping=False, epsilon=1e-08,\n",
       "              hidden_layer_sizes=(100,), learning_rate='constant',\n",
       "              learning_rate_init=0.001, max_fun=15000, max_iter=200,\n",
       "              momentum=0.9, n_iter_no_change=10, nesterovs_momentum=True,\n",
       "              power_t=0.5, random_state=None, shuffle=True, solver='adam',\n",
       "              tol=0.0001, validation_fraction=0.1, verbose=False,\n",
       "              warm_start=False)"
      ]
     },
     "execution_count": 34,
     "metadata": {},
     "output_type": "execute_result"
    }
   ],
   "source": [
    "#Scikit-learn has an MLPClassifier class which is a multi-layer perceptron for classification - it can be imported from\n",
    "#scikit-learn, create an MLPClassifier object and use the fit method to train\n",
    "from sklearn.model_selection import train_test_split\n",
    "from sklearn.neural_network import MLPClassifier\n",
    "from sklearn.datasets import make_classification\n",
    "\n",
    "X, y = make_classification(n_features=2, n_redundant=0, n_informative=2, random_state=3)\n",
    "X_train, X_test, y_train, y_test = train_test_split(X, y, random_state=3)\n",
    "mlp = MLPClassifier()\n",
    "mlp.fit(X_train, y_train)"
   ]
  },
  {
   "cell_type": "code",
   "execution_count": 35,
   "metadata": {},
   "outputs": [
    {
     "name": "stdout",
     "output_type": "stream",
     "text": [
      "accuracy: 0.68\n"
     ]
    }
   ],
   "source": [
    "#ConvergenceWarning - this means that the neural network needs more iterations to converge on the optimal coefficients\n",
    "#the default number of iterations is 200 - increase this value to 1000\n",
    "from sklearn.model_selection import train_test_split\n",
    "from sklearn.neural_network import MLPClassifier\n",
    "from sklearn.datasets import make_classification\n",
    "\n",
    "X, y = make_classification(n_features=2, n_redundant=0, n_informative=2, random_state=3)\n",
    "X_train, X_test, y_train, y_test = train_test_split(X, y, random_state=3)\n",
    "mlp = MLPClassifier(max_iter=1000)\n",
    "mlp.fit(X_train, y_train)\n",
    "print(\"accuracy:\", mlp.score(X_test, y_test))"
   ]
  },
  {
   "cell_type": "code",
   "execution_count": 36,
   "metadata": {},
   "outputs": [],
   "source": [
    "#Neural networks are incredibly complicated, but scikit_learn makes them very approachable to use"
   ]
  },
  {
   "cell_type": "code",
   "execution_count": 37,
   "metadata": {},
   "outputs": [],
   "source": [
    "#Parameters for MLPClassifier - there are a couple of parameters that you may find yourself needing to change in the \n",
    "#MLPClassifier\n",
    "#You can configure the number of hidden layers and how many nodes in each layer\n",
    "#The default MLPClassifier will have a single hidden layer of 100 nodes - this often works very well\n",
    "#The following will create an MLPClassifier with two hidden layers, one of 100 nodes and one of 50 nodes\n",
    "#mlp = MLPClassifier(max_iter=1000, hidden_layer_sizes=(100, 50))\n",
    "#max_iter is the number of iterations - in general, the more data you have, the fewer iterations you need to converge\n",
    "#if the value is too large, it will take too long to run the code, if the value is too small, the neural network will not \n",
    "#converge on the optimal solution\n",
    "#We also sometimes need to change alpha which is the step size - this is how much the neural network changes the coefficients\n",
    "#at each iteration (if the value is too small, the model may never converge on the optimal solution, if the value is too large\n",
    "#it may miss the optimal solution)\n",
    "#Initially, the alpha can be left at the default which is 00001 - note that decreasing alpha often requires an increase in\n",
    "#max_iter\n",
    "#Sometimes, you will want to change the solver - the algorithm which is used to find the optimal solution\n",
    "#All the solvers will work but you may find for your dataset that a different solver finds the optimal solution faster - the\n",
    "#options for solver are 'lbfgs', 'sgd' and 'adam'"
   ]
  },
  {
   "cell_type": "code",
   "execution_count": 38,
   "metadata": {},
   "outputs": [
    {
     "name": "stdout",
     "output_type": "stream",
     "text": [
      "accuracy: 0.76\n"
     ]
    }
   ],
   "source": [
    "mlp = MLPClassifier(max_iter=1000, hidden_layer_sizes=(100, 50), alpha=0.0001, solver='adam', random_state=3)\n",
    "mlp.fit(X_train, y_train)\n",
    "print(\"accuracy:\", mlp.score(X_test, y_test))"
   ]
  },
  {
   "cell_type": "code",
   "execution_count": 39,
   "metadata": {},
   "outputs": [],
   "source": [
    "#The MNIST dataset - NIST is the National Institute of Standards and Technology and the M stands for Modified\n",
    "#This is a database of images of handwritten digits - we will build a classifier to determine which digit is in the image\n",
    "#We will start with the version of the MNIST dataset that is built into scikit-learn - this has the images with only 8 by 8\n",
    "#pixels, so they are blurry"
   ]
  },
  {
   "cell_type": "markdown",
   "metadata": {},
   "source": [
    "<img src=\"IMG_20230823_171424.jpg\" style=\"width:500px;height:300px;\">"
   ]
  },
  {
   "cell_type": "code",
   "execution_count": 40,
   "metadata": {},
   "outputs": [
    {
     "name": "stdout",
     "output_type": "stream",
     "text": [
      "(360, 64) (360,)\n",
      "[ 0.  0.  5. 13.  9.  1.  0.  0.  0.  0. 13. 15. 10. 15.  5.  0.  0.  3.\n",
      " 15.  2.  0. 11.  8.  0.  0.  4. 12.  0.  0.  8.  8.  0.  0.  5.  8.  0.\n",
      "  0.  9.  8.  0.  0.  4. 11.  0.  1. 12.  7.  0.  0.  2. 14.  5. 10. 12.\n",
      "  0.  0.  0.  0.  6. 13. 10.  0.  0.  0.]\n",
      "0\n"
     ]
    }
   ],
   "source": [
    "#In scikit-learn we can load the dataset using the load_digits function\n",
    "#To simplify the problem, we will initially only be working with two digits (0 and 1) - so, we can use the n_class parameter to\n",
    "#limit the number of target values to 2\n",
    "from sklearn.datasets import load_digits\n",
    "X, y = load_digits(n_class=2, return_X_y=True)\n",
    "\n",
    "#we can see the dimensions of X and y and what the values look like\n",
    "print(X.shape, y.shape)\n",
    "print(X[0])\n",
    "print(y[0])"
   ]
  },
  {
   "cell_type": "code",
   "execution_count": 41,
   "metadata": {},
   "outputs": [
    {
     "name": "stdout",
     "output_type": "stream",
     "text": [
      "[[ 0.  0.  5. 13.  9.  1.  0.  0.]\n",
      " [ 0.  0. 13. 15. 10. 15.  5.  0.]\n",
      " [ 0.  3. 15.  2.  0. 11.  8.  0.]\n",
      " [ 0.  4. 12.  0.  0.  8.  8.  0.]\n",
      " [ 0.  5.  8.  0.  0.  9.  8.  0.]\n",
      " [ 0.  4. 11.  0.  1. 12.  7.  0.]\n",
      " [ 0.  2. 14.  5. 10. 12.  0.  0.]\n",
      " [ 0.  0.  6. 13. 10.  0.  0.  0.]]\n"
     ]
    }
   ],
   "source": [
    "#there are 360 datapoints and each datapoint has 64 features - 8 X 8 pixels and we have 1 feature per pixel\n",
    "#the value is on a grayscale where 0 is black and 16 is white\n",
    "#to get a more intuitive view of the datapoint, reshape the array to be 8x8\n",
    "print(X[0].reshape(8, 8))"
   ]
  },
  {
   "cell_type": "code",
   "execution_count": 42,
   "metadata": {},
   "outputs": [
    {
     "data": {
      "image/png": "[encoded data removed]",
      "text/plain": [
       "<Figure size 288x288 with 1 Axes>"
      ]
     },
     "metadata": {},
     "output_type": "display_data"
    }
   ],
   "source": [
    "#There are different versions of this dataset with more pixels and with colors (not grayscale)\n",
    "#Drawing the digits - a model can be built without looking at a visual representation of the images, but it can sometimes be\n",
    "#helpful to draw the image\n",
    "#use the matplotlib function matshow to draw the image - the cmap parameter is used to indicate that the image should be in a\n",
    "#grayscale rather than colored\n",
    "import matplotlib.pyplot as plt\n",
    "from sklearn.datasets import load_digits\n",
    "\n",
    "X, y = load_digits(n_class=2, return_X_y=True)\n",
    "plt.matshow(X[0].reshape(8, 8), cmap=plt.cm.gray)\n",
    "plt.xticks(()) #remove x tick marks\n",
    "plt.yticks(()) #remove y tick marks\n",
    "plt.savefig(\"plot.png\")\n",
    "plt.show()"
   ]
  },
  {
   "cell_type": "code",
   "execution_count": 43,
   "metadata": {},
   "outputs": [
    {
     "data": {
      "text/plain": [
       "MLPClassifier(activation='relu', alpha=0.0001, batch_size='auto', beta_1=0.9,\n",
       "              beta_2=0.999, early_stopping=False, epsilon=1e-08,\n",
       "              hidden_layer_sizes=(100,), learning_rate='constant',\n",
       "              learning_rate_init=0.001, max_fun=15000, max_iter=200,\n",
       "              momentum=0.9, n_iter_no_change=10, nesterovs_momentum=True,\n",
       "              power_t=0.5, random_state=None, shuffle=True, solver='adam',\n",
       "              tol=0.0001, validation_fraction=0.1, verbose=False,\n",
       "              warm_start=False)"
      ]
     },
     "execution_count": 43,
     "metadata": {},
     "output_type": "execute_result"
    }
   ],
   "source": [
    "#With only 64 pixels the image is very pixelated - even with these blurry images, we can build an excellent model\n",
    "#MLP for MNIST dataset - build a model for the MNIST dataset using the MLPClassifier\n",
    "#train/test split on the dataset\n",
    "X_train, X_test, y_train, y_test = train_test_split(X, y, random_state=2)\n",
    "mlp = MLPClassifier()\n",
    "#train the MLPClassifier on the training set\n",
    "mlp.fit(X_train, y_train)"
   ]
  },
  {
   "cell_type": "code",
   "execution_count": 44,
   "metadata": {},
   "outputs": [
    {
     "data": {
      "image/png": "[encoded data removed]",
      "text/plain": [
       "<Figure size 288x288 with 1 Axes>"
      ]
     },
     "metadata": {},
     "output_type": "display_data"
    },
    {
     "name": "stdout",
     "output_type": "stream",
     "text": [
      "[0]\n"
     ]
    }
   ],
   "source": [
    "#We do not get a warning which means the default number of iterations is adequate in this case\n",
    "#Let's look at how the model predicts the first datapoint in the test set -  we use matplotlib to draw the images and then show\n",
    "#the model's prediction\n",
    "x = X_test[0]\n",
    "plt.matshow(x.reshape(8, 8), cmap=plt.cm.gray)\n",
    "plt.xticks(())\n",
    "plt.yticks(())\n",
    "plt.savefig(\"plot1.png\")\n",
    "plt.show()\n",
    "print(mlp.predict([x]))"
   ]
  },
  {
   "cell_type": "code",
   "execution_count": 45,
   "metadata": {},
   "outputs": [
    {
     "data": {
      "image/png": "[encoded data removed]",
      "text/plain": [
       "<Figure size 288x288 with 1 Axes>"
      ]
     },
     "metadata": {},
     "output_type": "display_data"
    },
    {
     "name": "stdout",
     "output_type": "stream",
     "text": [
      "[1]\n"
     ]
    }
   ],
   "source": [
    "#this is a 0 and our model correctly predicts 0\n",
    "#Similarly look at the second datapoint\n",
    "x = X_test[1]\n",
    "plt.matshow(x.reshape(8, 8), cmap=plt.cm.gray)\n",
    "plt.xticks(())\n",
    "plt.yticks(())\n",
    "plt.savefig(\"plot2.png\")\n",
    "plt.show()\n",
    "print(mlp.predict([x]))"
   ]
  },
  {
   "cell_type": "code",
   "execution_count": 46,
   "metadata": {},
   "outputs": [
    {
     "data": {
      "text/plain": [
       "1.0"
      ]
     },
     "execution_count": 46,
     "metadata": {},
     "output_type": "execute_result"
    }
   ],
   "source": [
    "#This is clearly a 1 and our model again gets the correct prediction\n",
    "#see the model's accuracy on the entire test set\n",
    "mlp.score(X_test, y_test)"
   ]
  },
  {
   "cell_type": "code",
   "execution_count": 47,
   "metadata": {},
   "outputs": [],
   "source": [
    "#The model gets 100% accuracy\n",
    "#0 and 1 are two of the easier digits to distinguish, but we will see that the model can also perform well with distinguishing\n",
    "#harder examples"
   ]
  },
  {
   "cell_type": "code",
   "execution_count": 48,
   "metadata": {},
   "outputs": [
    {
     "data": {
      "text/plain": [
       "0.96"
      ]
     },
     "execution_count": 48,
     "metadata": {},
     "output_type": "execute_result"
    }
   ],
   "source": [
    "#Classifying all 10 digits - since neural networks easily generalize to handle multiple outputs, we can just use the same code\n",
    "#to build a classifier to distinguish between all ten digits\n",
    "#This time when we load the digits, we do not limit the number of classes\n",
    "X, y =load_digits(return_X_y=True)\n",
    "X_train, X_test, y_train, y_test = train_test_split(X, y, random_state=2)\n",
    "mlp = MLPClassifier(random_state=2)\n",
    "mlp.fit(X_train, y_train)\n",
    "mlp.score(X_test, y_test)"
   ]
  },
  {
   "cell_type": "code",
   "execution_count": 49,
   "metadata": {},
   "outputs": [
    {
     "data": {
      "image/png": "[encoded data removed]",
      "text/plain": [
       "<Figure size 288x288 with 1 Axes>"
      ]
     },
     "metadata": {},
     "output_type": "display_data"
    },
    {
     "name": "stdout",
     "output_type": "stream",
     "text": [
      "true value 4\n",
      "predicted value: 9\n"
     ]
    }
   ],
   "source": [
    "#So, we got 96% of the datapoints in the test set correct - let's look at the ones we got incorrect\n",
    "#We use a numpy mask to pull out just the datapoints we got incorrect - we pull the x values, the y true value as well as the\n",
    "#predicted value\n",
    "y_pred = mlp.predict(X_test)\n",
    "incorrect = X_test[y_pred != y_test]\n",
    "incorrect_true = y_test[y_pred != y_test]\n",
    "incorrect_pred = y_pred[y_pred != y_test]\n",
    "\n",
    "#let's look at the first image that we got wrong and what our prediction was\n",
    "j = 0\n",
    "plt.matshow(incorrect[j].reshape(8, 8), cmap=plt.cm.gray)\n",
    "plt.xticks(())\n",
    "plt.yticks(())\n",
    "plt.savefig(\"plot3.png\")\n",
    "plt.show()\n",
    "print(\"true value\", incorrect_true[j])\n",
    "print(\"predicted value:\", incorrect_pred[j])"
   ]
  },
  {
   "cell_type": "code",
   "execution_count": 50,
   "metadata": {},
   "outputs": [
    {
     "name": "stdout",
     "output_type": "stream",
     "text": [
      "[[ 0  0 11  7  0  0  0  0]\n",
      " [ 0  5 16  3  2 14  3  0]\n",
      " [ 0  9 15  0 12 15  0  0]\n",
      " [ 0  6 16 15 16  5  0  0]\n",
      " [ 0  0  6 15 11  0  0  0]\n",
      " [ 0  0  1 16  4  0  0  0]\n",
      " [ 0  0  9 12  0  0  0  0]\n",
      " [ 0  0 13 10  0  0  0  0]]\n",
      "true value: 4\n",
      "predicted value: 9\n",
      "[[ 0  0 10 14  0  0  0  0]\n",
      " [ 0  1 16  7  1  7  0  0]\n",
      " [ 0  0 15  7 12 16  2  0]\n",
      " [ 0  0 10 16 16  4  0  0]\n",
      " [ 0  0  0  9 14  0  0  0]\n",
      " [ 0  0  0 14 10  0  0  0]\n",
      " [ 0  0  5 16  2  0  0  0]\n",
      " [ 0  0 11 12  0  0  0  0]]\n",
      "true value: 4\n",
      "predicted value: 8\n",
      "[[ 0  0  0 11 16 12  1  0]\n",
      " [ 0  0  5 16 10 16  4  0]\n",
      " [ 0  2 15 10  0  8  1  0]\n",
      " [ 0  5 16  9  1  0  0  0]\n",
      " [ 0  8 16 16  9  0  0  0]\n",
      " [ 0  2 16 10 16  6  0  0]\n",
      " [ 0  0 11 16 16  7  0  0]\n",
      " [ 0  0  1  8 13  0  0  0]]\n",
      "true value: 6\n",
      "predicted value: 8\n",
      "[[ 0  2 11 14 14  9  0  0]\n",
      " [ 0  3 10  7 10 16  3  0]\n",
      " [ 0  0  0  4 13 12  0  0]\n",
      " [ 0  0  0 13 15  2  0  0]\n",
      " [ 0  0  0 15  9  0  0  0]\n",
      " [ 0  0  0  9 15  0  0  0]\n",
      " [ 0  0  1 13  9  0  0  0]\n",
      " [ 0  1 15 13  1  0  0  0]]\n",
      "true value: 3\n",
      "predicted value: 7\n",
      "[[ 0  0  5 13  0  0  0  0]\n",
      " [ 0  0 12  9  4 13  0  0]\n",
      " [ 0  0 16  5 11 13  0  0]\n",
      " [ 0  0 15 13 15  7  0  0]\n",
      " [ 0  0  4 14 15  0  0  0]\n",
      " [ 0  0  0 14  8  0  0  0]\n",
      " [ 0  0  2 16  4  0  0  0]\n",
      " [ 0  0  6 16  1  0  0  0]]\n",
      "true value: 4\n",
      "predicted value: 1\n",
      "[[ 0  3 13 16 13  0  0  0]\n",
      " [ 0  9 13  8 16  5  1  0]\n",
      " [ 0  0  8 14 16 16  5  0]\n",
      " [ 0  0  8 16 15  2  0  0]\n",
      " [ 0  0  2 16  7  0  0  0]\n",
      " [ 0  0  7 16  4  0  0  0]\n",
      " [ 0  0 15  9  0  0  0  0]\n",
      " [ 0  2 15  3  0  0  0  0]]\n",
      "true value: 7\n",
      "predicted value: 8\n",
      "[[ 0  0  0  0 13  1  0  0]\n",
      " [ 0  0  0  7 15  3  0  0]\n",
      " [ 0  0  0 16 11  2  0  0]\n",
      " [ 0  0  4 16 16 14  1  0]\n",
      " [ 0  0  5 16  8  8 10  0]\n",
      " [ 0  0  9 16  4  0 15  0]\n",
      " [ 0  0  2  9 11 13 14  0]\n",
      " [ 0  0  0  0 10 16 10  0]]\n",
      "true value: 6\n",
      "predicted value: 1\n",
      "[[ 0  0  0  2 15  5  0  0]\n",
      " [ 0  0  2  4 10 12  0  0]\n",
      " [ 0  3 15 14 10  8  0  0]\n",
      " [ 0  8 15  1 11  4  0  0]\n",
      " [ 0  1  8 15 16  0  0  0]\n",
      " [ 0  0  0  6 16 12  1  0]\n",
      " [ 0  0  0  4 14 15  4  0]\n",
      " [ 0  0  0  2 14 11  0  0]]\n",
      "true value: 8\n",
      "predicted value: 1\n",
      "[[ 0  0 13 10  1  0  0  0]\n",
      " [ 0  5 16 14  7  0  0  0]\n",
      " [ 0  4 16  8 14  0  0  0]\n",
      " [ 0  2 14 16 16  6  0  0]\n",
      " [ 0  0  1  4  9 13  1  0]\n",
      " [ 0  0  0  0  0 13  6  0]\n",
      " [ 0  0  5  8  5  9 14  0]\n",
      " [ 0  0 13 13 15 16 13  0]]\n",
      "true value: 9\n",
      "predicted value: 5\n",
      "[[ 0  0  6 12 13  6  0  0]\n",
      " [ 0  6 16  9 12 16  2  0]\n",
      " [ 0  7 16  9 15 13  0  0]\n",
      " [ 0  0 11 15 16  4  0  0]\n",
      " [ 0  0  0 12 10  0  0  0]\n",
      " [ 0  0  3 16  4  0  0  0]\n",
      " [ 0  0  1 16  2  0  0  0]\n",
      " [ 0  0  6 11  0  0  0  0]]\n",
      "true value: 9\n",
      "predicted value: 8\n",
      "[[ 0  0  3 15  7  0  0  0]\n",
      " [ 0  3 15 11  1  1  7  0]\n",
      " [ 0  8 16  2  0 13 15  0]\n",
      " [ 0  8 16 13 14 16  5  0]\n",
      " [ 0  0  8  9 15 13  0  0]\n",
      " [ 0  0  0  8 16  2  0  0]\n",
      " [ 0  0  0 12 12  0  0  0]\n",
      " [ 0  0  3 16  4  0  0  0]]\n",
      "true value: 4\n",
      "predicted value: 9\n",
      "[[ 0  4 13 16 16  7  0  0]\n",
      " [ 0  8 12 16 16 13  0  0]\n",
      " [ 0  0  9 16 16  3  0  0]\n",
      " [ 0  0 15 16  6  0  0  0]\n",
      " [ 0  0 10 11  9  2  0  0]\n",
      " [ 0  0  1  7 15 13  2  0]\n",
      " [ 0  0  3  4  7 16 10  0]\n",
      " [ 0  2 11 15 11  8  2  0]]\n",
      "true value: 3\n",
      "predicted value: 5\n",
      "[[ 0  0  2 15 15 16 11  0]\n",
      " [ 0  0  8 16 11  3  0  0]\n",
      " [ 0  0 13  9  0  0  0  0]\n",
      " [ 0  5 16  3  9 11  3  0]\n",
      " [ 0 10 15 15 16 16 11  0]\n",
      " [ 0  6 16 10  7 16  5  0]\n",
      " [ 0  0  3  4 15  8  0  0]\n",
      " [ 0  0  4 15  7  0  0  0]]\n",
      "true value: 5\n",
      "predicted value: 4\n",
      "[[ 0  1 11 10  8  1  1  0]\n",
      " [ 0  3 15 11  3 12  6  0]\n",
      " [ 0  0  4 16 16 12  0  0]\n",
      " [ 0  0  0 11 16  5  0  0]\n",
      " [ 0  0  5 13 12 12  0  0]\n",
      " [ 0  0 13  7  1 16  4  0]\n",
      " [ 0  1 15  4  7 14  0  0]\n",
      " [ 0  1 14 14  8  1  0  0]]\n",
      "true value: 8\n",
      "predicted value: 3\n",
      "[[ 0  0  4 12 16 16  4  0]\n",
      " [ 0  0  9  7  4 14 12  0]\n",
      " [ 0  0  0  0  0 11 14  0]\n",
      " [ 0  0  0  0  3 16  6  0]\n",
      " [ 0  0  0  1 13  6  0  0]\n",
      " [ 0  0  1 12  8  0  0  0]\n",
      " [ 0  0  6 16  9  5  0  0]\n",
      " [ 0  0  3 12 13  9  0  0]]\n",
      "true value: 2\n",
      "predicted value: 7\n",
      "[[ 0  0  3  4 10  0  0  0]\n",
      " [ 0  3 15  8 14  3  0  0]\n",
      " [ 0  8  7  0 10  6  0  0]\n",
      " [ 0  3 11  8 15 11  0  0]\n",
      " [ 0  0  1  7  3 13  3  0]\n",
      " [ 0  0  0  0  0  6  9  0]\n",
      " [ 0  0  9  6  1  0 16  0]\n",
      " [ 0  0  0  3 11 16 16  3]]\n",
      "true value: 9\n",
      "predicted value: 3\n",
      "[[ 0  0  2 10 16 11  1  0]\n",
      " [ 0  0 13 13 10 16  8  0]\n",
      " [ 0  4 14  1  8 14  1  0]\n",
      " [ 0  4 15 12 15  8  0  0]\n",
      " [ 0  0  6  7 14  5  0  0]\n",
      " [ 0  1  2  0 12  5  0  0]\n",
      " [ 0  8 15  6 13  4  0  0]\n",
      " [ 0  0  5 11 16  3  0  0]]\n",
      "true value: 9\n",
      "predicted value: 8\n"
     ]
    }
   ],
   "source": [
    "#from the image, a human might also be confused - it is not obvious whether it is a 4 or 9\n",
    "from sklearn.datasets import load_digits\n",
    "from sklearn.model_selection import train_test_split\n",
    "from sklearn.neural_network import MLPClassifier\n",
    "\n",
    "X, y = load_digits(return_X_y=True)\n",
    "X_train, X_test, y_train, y_test = train_test_split(X, y, random_state=2)\n",
    "mlp = MLPClassifier(random_state=2)\n",
    "mlp.fit(X_train, y_train)\n",
    "\n",
    "y_pred = mlp.predict(X_test)\n",
    "incorrect = X_test[y_pred != y_test]\n",
    "incorrect_true = y_test[y_pred != y_test]\n",
    "incorrect_pred = y_pred[y_pred != y_test]\n",
    "\n",
    "for j in range(len(incorrect_pred) - 1):\n",
    "    print(incorrect[j].reshape(8, 8).astype(int))\n",
    "    print(\"true value:\", incorrect_true[j])\n",
    "    print(\"predicted value:\", incorrect_pred[j])"
   ]
  },
  {
   "cell_type": "code",
   "execution_count": 51,
   "metadata": {},
   "outputs": [
    {
     "data": {
      "text/plain": [
       "18"
      ]
     },
     "execution_count": 51,
     "metadata": {},
     "output_type": "execute_result"
    }
   ],
   "source": [
    "len(incorrect_pred)"
   ]
  },
  {
   "cell_type": "code",
   "execution_count": 52,
   "metadata": {},
   "outputs": [
    {
     "name": "stdout",
     "output_type": "stream",
     "text": [
      "(70000, 784) (70000,)\n",
      "0.0 255.0\n",
      "['5' '0' '4' '1' '9']\n"
     ]
    }
   ],
   "source": [
    "#Visualizing MLP weights - instead of using the scikit-learn version of the MNIST dataset which has 64 pixel images, we will use\n",
    "#a version from Open ML that has 784 pixels (28 X 28)\n",
    "#Open ML (www.openml.org) has a database of large datasets that can be used for a variety of machine learning problems\n",
    "#scikit-learn has a function fetch_openml for directly downloading datasets from the Open ML database\n",
    "from sklearn.datasets import fetch_openml\n",
    "import numpy as np\n",
    "\n",
    "X, y = fetch_openml('mnist_784', version=1, return_X_y=True)\n",
    "\n",
    "#check the shape of the arrays\n",
    "print(X.shape, y.shape)\n",
    "#check the range of the features values\n",
    "print(np.min(X), np.max(X))\n",
    "#check the first few values of the target array\n",
    "print(y[0:5])"
   ]
  },
  {
   "cell_type": "code",
   "execution_count": 53,
   "metadata": {},
   "outputs": [],
   "source": [
    "#there are 70,000 datapoints with 784 features, the feature values range from 0 to 255 (which we interpret on a gray scale with\n",
    "#0 being white and 255 being black)\n",
    "#the target values are the numbers 0-9, and are stored as strings and not integers\n",
    "#For this example, we will be using only the digits 0-3, so we can use the following code to segment out that portion of the\n",
    "#dataset\n",
    "X5 = X[y <= '3']\n",
    "y5 = y[y <= '3']"
   ]
  },
  {
   "cell_type": "code",
   "execution_count": 54,
   "metadata": {},
   "outputs": [
    {
     "data": {
      "text/plain": [
       "MLPClassifier(activation='relu', alpha=0.0001, batch_size='auto', beta_1=0.9,\n",
       "              beta_2=0.999, early_stopping=False, epsilon=1e-08,\n",
       "              hidden_layer_sizes=(6,), learning_rate='constant',\n",
       "              learning_rate_init=0.001, max_fun=15000, max_iter=200,\n",
       "              momentum=0.9, n_iter_no_change=10, nesterovs_momentum=True,\n",
       "              power_t=0.5, random_state=2, shuffle=True, solver='sgd',\n",
       "              tol=0.0001, validation_fraction=0.1, verbose=False,\n",
       "              warm_start=False)"
      ]
     },
     "execution_count": 54,
     "metadata": {},
     "output_type": "execute_result"
    }
   ],
   "source": [
    "#we will be modifying some of the default parameters in the MLPClassifier to build the model\n",
    "#since our goal will be to visualize the weights of the hidden layer, we will use only 6 nodes in the hidden layer\n",
    "#we will use 'sgd' (stochastic gradient descent) as our solver which requires us to decrease alpha (the learning rate)\n",
    "mlp = MLPClassifier(hidden_layer_sizes=(6,), max_iter=200, alpha=1e-4, solver='sgd', random_state=2)\n",
    "mlp.fit(X5, y5)"
   ]
  },
  {
   "cell_type": "code",
   "execution_count": 55,
   "metadata": {},
   "outputs": [
    {
     "data": {
      "text/plain": [
       "[array([[-0.01115578, -0.08262879,  0.00865593, -0.011273  , -0.01387951,\n",
       "         -0.02957183],\n",
       "        [-0.05147833,  0.02078836, -0.03491923, -0.04064089,  0.02111305,\n",
       "          0.00507933],\n",
       "        [-0.06369096,  0.0023666 , -0.05500062,  0.04973255,  0.0616962 ,\n",
       "         -0.00100449],\n",
       "        ...,\n",
       "        [ 0.03318833,  0.03072636,  0.04947802, -0.07696065, -0.02204162,\n",
       "         -0.00295476],\n",
       "        [ 0.03754559,  0.02460191,  0.03225117,  0.04285359, -0.07510683,\n",
       "         -0.05427432],\n",
       "        [-0.06503791, -0.07023704, -0.02863253, -0.01949501,  0.07609001,\n",
       "         -0.05707062]]),\n",
       " array([[ 0.1638479 , -2.14556282,  0.13976687,  0.98950504],\n",
       "        [-0.03474043, -0.21458544, -0.31142814,  0.89648627],\n",
       "        [-2.56162362, -0.46390181,  1.55141423,  1.35599366],\n",
       "        [ 1.32293108, -2.67020005,  0.18579958, -0.01939301],\n",
       "        [ 0.16973856, -0.71189825, -0.61301734, -0.08485201],\n",
       "        [ 0.12941489,  0.09968615, -0.78006151, -0.21693258]])]"
      ]
     },
     "execution_count": 55,
     "metadata": {},
     "output_type": "execute_result"
    }
   ],
   "source": [
    "#the MLPClassifier stores the coefficients in the coefs_ attribute\n",
    "mlp.coefs_"
   ]
  },
  {
   "cell_type": "code",
   "execution_count": 56,
   "metadata": {},
   "outputs": [
    {
     "data": {
      "text/plain": [
       "2"
      ]
     },
     "execution_count": 56,
     "metadata": {},
     "output_type": "execute_result"
    }
   ],
   "source": [
    "#it is a list with two elements\n",
    "len(mlp.coefs_)"
   ]
  },
  {
   "cell_type": "code",
   "execution_count": 57,
   "metadata": {},
   "outputs": [
    {
     "data": {
      "text/plain": [
       "(784, 6)"
      ]
     },
     "execution_count": 57,
     "metadata": {},
     "output_type": "execute_result"
    }
   ],
   "source": [
    "#the two elements in the list correspond to the two layers - the hidden layer and the output layer - we have an array of\n",
    "#coefficients for each of these layers\n",
    "#check the shape of the coefficients for the hidden layer\n",
    "mlp.coefs_[0].shape"
   ]
  },
  {
   "cell_type": "code",
   "execution_count": 58,
   "metadata": {},
   "outputs": [
    {
     "data": {
      "text/plain": [
       "(6, 4)"
      ]
     },
     "execution_count": 58,
     "metadata": {},
     "output_type": "execute_result"
    }
   ],
   "source": [
    "#there are 6 nodes and 784 input values feeding into each node, and we have a weight for each of these connections\n",
    "#check the shape of the coefficients for the output layer\n",
    "mlp.coefs_[1].shape"
   ]
  },
  {
   "cell_type": "code",
   "execution_count": 59,
   "metadata": {},
   "outputs": [
    {
     "data": {
      "image/png": "[encoded data removed]",
      "text/plain": [
       "<Figure size 360x288 with 6 Axes>"
      ]
     },
     "metadata": {},
     "output_type": "display_data"
    }
   ],
   "source": [
    "#in order to interpret the values, we will need to use a visual representation\n",
    "#Visualizing the hidden layer - to get a better understanding of what the neural network is doing, we can visualize the weights\n",
    "#of the hidden layer to get some insight into what each node is doing\n",
    "#we will use the matshow function from matplotlib again to draw the images - in matplotlib, we can use the subplots function\n",
    "#to create multiple plots within a single plot\n",
    "\n",
    "fig, axes = plt.subplots(2, 3, figsize=(5, 4))\n",
    "for i, ax in enumerate(axes.ravel()):\n",
    "    coef = mlp.coefs_[0][:, i]\n",
    "    ax.matshow(coef.reshape(28, 28), cmap=plt.cm.gray)\n",
    "    ax.set_xticks(())\n",
    "    ax.set_yticks(())\n",
    "    ax.set_title(i + 1)\n",
    "plt.savefig(\"plot.png\")\n",
    "plt.show()"
   ]
  },
  {
   "cell_type": "code",
   "execution_count": 60,
   "metadata": {},
   "outputs": [],
   "source": [
    "#you can see that nodes 4 and 6 are determining if the digit is a 3, node 1 is determining if the digit is a 0 or a 2 since\n",
    "#you can see both of those values in the image\n",
    "#not every hidden node will have an obvious use\n",
    "#if you change the random state in the MLPClassifier, you will likely get different results\n",
    "#there are many equivalently optimal neural networks that work differently"
   ]
  },
  {
   "cell_type": "code",
   "execution_count": 61,
   "metadata": {},
   "outputs": [],
   "source": [
    "#Neural networks pros and cons\n",
    "#Interpretability - neural networks are not a good option for interpretability\n",
    "#while we can visualize the nodes in the hidden layer to understand on a high level what the neural network is doing, it is \n",
    "#impossible to answer the question \"why did datapoint x get prediction y?\"\n",
    "#Since there are so many nodes, each with their own coefficients, it is not feasible to get a simple explanation of what the\n",
    "#neural network is doing\n",
    "#This makes neural network a difficult model to interpret and use in certain business use cases\n",
    "#Computation - neural networks can take a decent amount of time to train, each node has its own coefficients and to train they\n",
    "#are iteratively updated, so this can be time consuming\n",
    "#However, they are parallelizable, so it is possible to throw computer power at them to make them train faster\n",
    "#Once they are built, neural networks are not slow to make predictions, however, they are not as fast as some of the other \n",
    "#models\n",
    "#Performance - the main draw to neural networks is their performance\n",
    "#on many problems, their performance simply cannot be beat by other models - they can take some tuning of parameters to find the\n",
    "#optimal performance but they benefit from needing minimal feature engineering prior to building the model\n",
    "#A lot of simpler problems, you can achieve equivalent performance with a simpler model like logistic regression, but with large\n",
    "#unstructured datasets, neural networks outperform other models - the key advantage of neural networks is their performance\n",
    "#capabilities"
   ]
  },
  {
   "cell_type": "code",
   "execution_count": null,
   "metadata": {},
   "outputs": [],
   "source": []
  }
 ],
 "metadata": {
  "kernelspec": {
   "display_name": "Python 3",
   "language": "python",
   "name": "python3"
  },
  "language_info": {
   "codemirror_mode": {
    "name": "ipython",
    "version": 3
   },
   "file_extension": ".py",
   "mimetype": "text/x-python",
   "name": "python",
   "nbconvert_exporter": "python",
   "pygments_lexer": "ipython3",
   "version": "3.7.6"
  }
 },
 "nbformat": 4,
 "nbformat_minor": 4
}
